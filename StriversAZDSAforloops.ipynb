{
  "nbformat": 4,
  "nbformat_minor": 0,
  "metadata": {
    "colab": {
      "provenance": [],
      "authorship_tag": "ABX9TyOO6ItnArLdBztko60VTmK+",
      "include_colab_link": true
    },
    "kernelspec": {
      "name": "python3",
      "display_name": "Python 3"
    },
    "language_info": {
      "name": "python"
    }
  },
  "cells": [
    {
      "cell_type": "markdown",
      "metadata": {
        "id": "view-in-github",
        "colab_type": "text"
      },
      "source": [
        "<a href=\"https://colab.research.google.com/github/yp9435/Leetcode/blob/main/StriversAZDSAforloops.ipynb\" target=\"_parent\"><img src=\"https://colab.research.google.com/assets/colab-badge.svg\" alt=\"Open In Colab\"/></a>"
      ]
    },
    {
      "cell_type": "markdown",
      "source": [
        "# **Must do Pattern Problems before starting DSA**\n",
        "\n",
        "This article contains all the important pattern problems that you must solve before starting DSA. This is a part of the Striver's A2Z DSA Course/Sheet."
      ],
      "metadata": {
        "id": "Dlu2jxZ3cIZ1"
      }
    },
    {
      "cell_type": "markdown",
      "source": [
        "# Pattern-1: Rectangular Star Pattern\n",
        "Given an integer N, print the following pattern.\n",
        "```\n",
        "* * * *\n",
        "* * * *\n",
        "* * * *\n",
        "* * * *\n",
        "```\n",
        "\n"
      ],
      "metadata": {
        "id": "407FHLticaC5"
      }
    },
    {
      "cell_type": "code",
      "execution_count": 51,
      "metadata": {
        "colab": {
          "base_uri": "https://localhost:8080/"
        },
        "id": "vfavCh9db4G_",
        "outputId": "a8fc5c2c-2491-4daa-fcdc-73de3fd06777"
      },
      "outputs": [
        {
          "output_type": "stream",
          "name": "stdout",
          "text": [
            "Enter N:4\n",
            "* * * * \n",
            "* * * * \n",
            "* * * * \n",
            "* * * * \n"
          ]
        }
      ],
      "source": [
        "n = int(input(\"Enter N:\"))\n",
        "for i in range(n):\n",
        "  for j in range(n):\n",
        "    print('* ', end=\"\")\n",
        "  print()"
      ]
    },
    {
      "cell_type": "markdown",
      "source": [
        "# Pattern-2: Right-Angled Triangle Pattern\n",
        "\n",
        "Given an integer N, print the following pattern.\n",
        "\n",
        "```\n",
        "*\n",
        "* *\n",
        "* * *\n",
        "* * * *\n",
        "```\n"
      ],
      "metadata": {
        "id": "AMjkvM94eO1o"
      }
    },
    {
      "cell_type": "code",
      "source": [
        "n = int(input(\"Enter N:\"))\n",
        "for i in range(n):\n",
        "  for j in range(i+1):\n",
        "    print('* ', end='')\n",
        "  print()"
      ],
      "metadata": {
        "colab": {
          "base_uri": "https://localhost:8080/"
        },
        "id": "k1M2s1KPdKo5",
        "outputId": "9cf8eeb7-053d-4c5c-b1eb-fc80aed7f954"
      },
      "execution_count": 52,
      "outputs": [
        {
          "output_type": "stream",
          "name": "stdout",
          "text": [
            "Enter N:4\n",
            "* \n",
            "* * \n",
            "* * * \n",
            "* * * * \n"
          ]
        }
      ]
    },
    {
      "cell_type": "markdown",
      "source": [
        "# Pattern - 3: Right-Angled Number Pyramid\n",
        "\n",
        "Given an integer N, print the following pattern :\n",
        "\n",
        "\n",
        "```\n",
        "1\n",
        "1 2\n",
        "1 2 3\n",
        "1 2 3 4\n",
        "```\n",
        "\n"
      ],
      "metadata": {
        "id": "rLGcDiAufvhQ"
      }
    },
    {
      "cell_type": "code",
      "source": [
        "n = int(input(\"Enter N:\"))\n",
        "for i in range(n):\n",
        "  for j in range(1,i+2):\n",
        "    print( j, end=' ')\n",
        "  print()"
      ],
      "metadata": {
        "colab": {
          "base_uri": "https://localhost:8080/"
        },
        "id": "9QQESbepfOPg",
        "outputId": "f03a4d15-1e99-4b1b-9bfc-fe5494dc5aa2"
      },
      "execution_count": 53,
      "outputs": [
        {
          "output_type": "stream",
          "name": "stdout",
          "text": [
            "Enter N:4\n",
            "1 \n",
            "1 2 \n",
            "1 2 3 \n",
            "1 2 3 4 \n"
          ]
        }
      ]
    },
    {
      "cell_type": "markdown",
      "source": [
        "# Pattern - 4: Right-Angled Number Pyramid - II"
      ],
      "metadata": {
        "id": "p2ZQJL-igu6p"
      }
    },
    {
      "cell_type": "code",
      "source": [
        "n = int(input(\"Enter N:\"))\n",
        "for i in range(n):\n",
        "  for j in range(i+1):\n",
        "    print( i+1, end=' ')\n",
        "  print()"
      ],
      "metadata": {
        "colab": {
          "base_uri": "https://localhost:8080/"
        },
        "id": "yJ3Hc8zXgOoS",
        "outputId": "a378b7aa-566c-4b90-8834-79cabb910006"
      },
      "execution_count": 54,
      "outputs": [
        {
          "output_type": "stream",
          "name": "stdout",
          "text": [
            "Enter N:4\n",
            "1 \n",
            "2 2 \n",
            "3 3 3 \n",
            "4 4 4 4 \n"
          ]
        }
      ]
    },
    {
      "cell_type": "markdown",
      "source": [
        "# Pattern-5: Inverted Right Pyramid\n",
        "\n",
        "\n",
        "```\n",
        "* * * * *\n",
        "* * * *\n",
        "* * *\n",
        "* *\n",
        "*\n",
        "```\n",
        "\n"
      ],
      "metadata": {
        "id": "qelGW1ishKKW"
      }
    },
    {
      "cell_type": "code",
      "source": [
        "n = int(input(\"Enter N:\"))\n",
        "for i in range(n,0,-1):\n",
        "  for j in range(i):\n",
        "    print(\"*\", end=\" \")\n",
        "  print()\n",
        "\n",
        "\"\"\" Chatgpt optimized\n",
        "n = int(input(\"Enter N:\"))\n",
        "for i in range(n, 0, -1):\n",
        "    print(\"* \" * i)\n",
        "\"\"\""
      ],
      "metadata": {
        "colab": {
          "base_uri": "https://localhost:8080/",
          "height": 140
        },
        "id": "DwpFsxjJhJeh",
        "outputId": "cdcf8a16-88cc-47da-efe1-4b66db195d80"
      },
      "execution_count": 55,
      "outputs": [
        {
          "output_type": "stream",
          "name": "stdout",
          "text": [
            "Enter N:5\n",
            "* * * * * \n",
            "* * * * \n",
            "* * * \n",
            "* * \n",
            "* \n"
          ]
        },
        {
          "output_type": "execute_result",
          "data": {
            "text/plain": [
              "' Chatgpt optimized \\nn = int(input(\"Enter N:\")) \\nfor i in range(n, 0, -1):\\n    print(\"* \" * i)\\n'"
            ],
            "application/vnd.google.colaboratory.intrinsic+json": {
              "type": "string"
            }
          },
          "metadata": {},
          "execution_count": 55
        }
      ]
    },
    {
      "cell_type": "markdown",
      "source": [
        "# Pattern - 6: Inverted Numbered Right Pyramid\n",
        "\n",
        "\n",
        "```\n",
        "12345\n",
        "1234\n",
        "123\n",
        "12\n",
        "1\n",
        "```\n",
        "\n"
      ],
      "metadata": {
        "id": "IhJiPLJf-JJn"
      }
    },
    {
      "cell_type": "code",
      "source": [
        "n = int(input(\"Enter N:\"))\n",
        "for i in range(n,0,-1):\n",
        "  for j in range(1,i+1):\n",
        "    print(j, end=\" \")\n",
        "  print()"
      ],
      "metadata": {
        "colab": {
          "base_uri": "https://localhost:8080/"
        },
        "id": "GsXJJRBLg7Fy",
        "outputId": "b5bd5c8a-3837-41db-e3a9-c79c9d6fd2e5"
      },
      "execution_count": 56,
      "outputs": [
        {
          "output_type": "stream",
          "name": "stdout",
          "text": [
            "Enter N:5\n",
            "1 2 3 4 5 \n",
            "1 2 3 4 \n",
            "1 2 3 \n",
            "1 2 \n",
            "1 \n"
          ]
        }
      ]
    },
    {
      "cell_type": "markdown",
      "source": [
        "# Pattern - 7: Star Pyramid\n",
        "\n",
        "\n",
        "N=3\n",
        "\n",
        "```\n",
        "    *\n",
        "   ***\n",
        "  *****\n",
        "```\n",
        "\n"
      ],
      "metadata": {
        "id": "2FBct62U-sN-"
      }
    },
    {
      "cell_type": "code",
      "source": [
        "n = int(input(\"Enter N:\"))\n",
        "for i in range(1, (2*n), 2):       # starting at 1 and increasing by 2 each time\n",
        "    spaces = (2*n - 1 - i)         # Calculate the number of leading spaces\n",
        "    print(\" \" * spaces, end=\"\")    # Print the spaces\n",
        "    for j in range(i):             # Print stars in the current row\n",
        "        print(\"*\", end=\" \")\n",
        "    print()                        # Move to the next\n",
        "\n",
        "# kinda confusing idk how i got this right it was just trial and error."
      ],
      "metadata": {
        "colab": {
          "base_uri": "https://localhost:8080/"
        },
        "id": "b_xMHZRF-YH7",
        "outputId": "f3365edb-683f-4f05-b900-bad3c2c2b668"
      },
      "execution_count": 63,
      "outputs": [
        {
          "output_type": "stream",
          "name": "stdout",
          "text": [
            "Enter N:5\n",
            "        * \n",
            "      * * * \n",
            "    * * * * * \n",
            "  * * * * * * * \n",
            "* * * * * * * * * \n"
          ]
        }
      ]
    },
    {
      "cell_type": "markdown",
      "source": [
        "# Pattern - 8: Inverted Star Pyramid\n"
      ],
      "metadata": {
        "id": "T7wy7BSiDNEN"
      }
    },
    {
      "cell_type": "code",
      "source": [
        "n = int(input(\"Enter N:\"))\n",
        "for i in range(2*n-1, 0, -2):    # Start from 2*n-1 and decrease by 2\n",
        "    spaces = (2*n - 1 - i)       # Calculate leading spaces\n",
        "    print(\" \" * spaces, end=\"\")  # Print spaces\n",
        "    for j in range(i):           # Print stars in the current row\n",
        "        print(\"*\", end=\" \")\n",
        "    print()                      # Move to the next line\n"
      ],
      "metadata": {
        "colab": {
          "base_uri": "https://localhost:8080/"
        },
        "id": "6a3Jx8Yi_-cp",
        "outputId": "33fdced2-3a10-4f73-9a5d-736668a86479"
      },
      "execution_count": 62,
      "outputs": [
        {
          "output_type": "stream",
          "name": "stdout",
          "text": [
            "Enter N:5\n",
            "* * * * * * * * * \n",
            "  * * * * * * * \n",
            "    * * * * * \n",
            "      * * * \n",
            "        * \n"
          ]
        }
      ]
    },
    {
      "cell_type": "markdown",
      "source": [
        "# Pattern - 9: Diamond Star Pattern\n"
      ],
      "metadata": {
        "id": "Rvk1UthFGBGs"
      }
    },
    {
      "cell_type": "code",
      "source": [
        "n = int(input(\"Enter N:\"))\n",
        "\n",
        "# First Half\n",
        "for i in range(1, (2*n), 2):       # starting at 1 and increasing by 2 each time\n",
        "    spaces = (2*n - 1 - i)         # Calculate the number of leading spaces\n",
        "    print(\" \" * spaces, end=\"\")    # Print the spaces\n",
        "    for j in range(i):             # Print stars in the current row\n",
        "        print(\"*\", end=\" \")\n",
        "    print()                        # Move to the next\n",
        "\n",
        "# Bottom Half\n",
        "for i in range(2*n-1, 0, -2):    # Start from 2*n-1 and decrease by 2\n",
        "    spaces = (2*n - 1 - i)       # Calculate leading spaces\n",
        "    print(\" \" * spaces, end=\"\")  # Print spaces\n",
        "    for j in range(i):           # Print stars in the current row\n",
        "        print(\"*\", end=\" \")\n",
        "    print()                      # Move to the next line\n"
      ],
      "metadata": {
        "colab": {
          "base_uri": "https://localhost:8080/"
        },
        "id": "VUcNF_VLDVhZ",
        "outputId": "8a816b71-a478-4caa-f11d-4fe5d2e19dd7"
      },
      "execution_count": 61,
      "outputs": [
        {
          "output_type": "stream",
          "name": "stdout",
          "text": [
            "Enter N:5\n",
            "        * \n",
            "      * * * \n",
            "    * * * * * \n",
            "  * * * * * * * \n",
            "* * * * * * * * * \n",
            "* * * * * * * * * \n",
            "  * * * * * * * \n",
            "    * * * * * \n",
            "      * * * \n",
            "        * \n"
          ]
        }
      ]
    },
    {
      "cell_type": "markdown",
      "source": [
        "# Pattern - 10: Half Diamond Star Pattern\n",
        "\n",
        "\n",
        "\n",
        "```\n",
        "*\n",
        "* *\n",
        "* * *\n",
        "* *\n",
        "*\n",
        "```\n",
        "\n"
      ],
      "metadata": {
        "id": "R3nxNCGSG98T"
      }
    },
    {
      "cell_type": "code",
      "source": [
        "n= int(input(\"ENter N:\"))\n",
        "for i in range(n+1):\n",
        "  for j in range(i):\n",
        "    print(\"*\", end=\" \")\n",
        "  print()\n",
        "for i in range(n,1,-1):\n",
        "  for j in range(i-1):\n",
        "    print(\"*\", end=\" \")\n",
        "  print()\n",
        "\n",
        "# this solution is very brute so i got a better one\n",
        "\"\"\"\n",
        "# Single loop for both upper and lower parts\n",
        "for i in range(1, 2*n):\n",
        "    if i <= n:  # Upper pyramid\n",
        "        print(\"* \" * i)\n",
        "    else:       # Lower inverted pyramid\n",
        "        print(\"* \" * (2*n - i))\n",
        "\"\"\""
      ],
      "metadata": {
        "colab": {
          "base_uri": "https://localhost:8080/",
          "height": 174
        },
        "id": "mJqeJhuPG9mZ",
        "outputId": "5f582e4f-00f0-4cdd-d67f-5af17d21c707"
      },
      "execution_count": 60,
      "outputs": [
        {
          "output_type": "stream",
          "name": "stdout",
          "text": [
            "ENter N:3\n",
            "\n",
            "* \n",
            "* * \n",
            "* * * \n",
            "* * \n",
            "* \n"
          ]
        },
        {
          "output_type": "execute_result",
          "data": {
            "text/plain": [
              "'\\n# Single loop for both upper and lower parts\\nfor i in range(1, 2*n):  \\n    if i <= n:  # Upper pyramid\\n        print(\"* \" * i)\\n    else:       # Lower inverted pyramid\\n        print(\"* \" * (2*n - i))\\n'"
            ],
            "application/vnd.google.colaboratory.intrinsic+json": {
              "type": "string"
            }
          },
          "metadata": {},
          "execution_count": 60
        }
      ]
    },
    {
      "cell_type": "code",
      "source": [],
      "metadata": {
        "id": "e_KCnL2vGZoQ"
      },
      "execution_count": 60,
      "outputs": []
    }
  ]
}
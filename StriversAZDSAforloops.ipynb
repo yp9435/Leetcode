{
  "nbformat": 4,
  "nbformat_minor": 0,
  "metadata": {
    "colab": {
      "provenance": [],
      "authorship_tag": "ABX9TyN5wlT18mI+xjZIytf2jg2m",
      "include_colab_link": true
    },
    "kernelspec": {
      "name": "python3",
      "display_name": "Python 3"
    },
    "language_info": {
      "name": "python"
    }
  },
  "cells": [
    {
      "cell_type": "markdown",
      "metadata": {
        "id": "view-in-github",
        "colab_type": "text"
      },
      "source": [
        "<a href=\"https://colab.research.google.com/github/yp9435/Leetcode/blob/main/StriversAZDSAforloops.ipynb\" target=\"_parent\"><img src=\"https://colab.research.google.com/assets/colab-badge.svg\" alt=\"Open In Colab\"/></a>"
      ]
    },
    {
      "cell_type": "markdown",
      "source": [
        "# **Must do Pattern Problems before starting DSA**\n",
        "\n",
        "This article contains all the important pattern problems that you must solve before starting DSA. This is a part of the Striver's A2Z DSA Course/Sheet."
      ],
      "metadata": {
        "id": "Dlu2jxZ3cIZ1"
      }
    },
    {
      "cell_type": "markdown",
      "source": [
        "# Pattern-1: Rectangular Star Pattern\n",
        "Given an integer N, print the following pattern.\n",
        "```\n",
        "* * * *\n",
        "* * * *\n",
        "* * * *\n",
        "* * * *\n",
        "```\n",
        "\n"
      ],
      "metadata": {
        "id": "407FHLticaC5"
      }
    },
    {
      "cell_type": "code",
      "execution_count": 51,
      "metadata": {
        "colab": {
          "base_uri": "https://localhost:8080/"
        },
        "id": "vfavCh9db4G_",
        "outputId": "a8fc5c2c-2491-4daa-fcdc-73de3fd06777"
      },
      "outputs": [
        {
          "output_type": "stream",
          "name": "stdout",
          "text": [
            "Enter N:4\n",
            "* * * * \n",
            "* * * * \n",
            "* * * * \n",
            "* * * * \n"
          ]
        }
      ],
      "source": [
        "n = int(input(\"Enter N:\"))\n",
        "for i in range(n):\n",
        "  for j in range(n):\n",
        "    print('* ', end=\"\")\n",
        "  print()"
      ]
    },
    {
      "cell_type": "markdown",
      "source": [
        "# Pattern-2: Right-Angled Triangle Pattern\n",
        "\n",
        "Given an integer N, print the following pattern.\n",
        "\n",
        "```\n",
        "*\n",
        "* *\n",
        "* * *\n",
        "* * * *\n",
        "```\n"
      ],
      "metadata": {
        "id": "AMjkvM94eO1o"
      }
    },
    {
      "cell_type": "code",
      "source": [
        "n = int(input(\"Enter N:\"))\n",
        "for i in range(n):\n",
        "  for j in range(i+1):\n",
        "    print('* ', end='')\n",
        "  print()"
      ],
      "metadata": {
        "colab": {
          "base_uri": "https://localhost:8080/"
        },
        "id": "k1M2s1KPdKo5",
        "outputId": "9cf8eeb7-053d-4c5c-b1eb-fc80aed7f954"
      },
      "execution_count": 52,
      "outputs": [
        {
          "output_type": "stream",
          "name": "stdout",
          "text": [
            "Enter N:4\n",
            "* \n",
            "* * \n",
            "* * * \n",
            "* * * * \n"
          ]
        }
      ]
    },
    {
      "cell_type": "markdown",
      "source": [
        "# Pattern - 3: Right-Angled Number Pyramid\n",
        "\n",
        "Given an integer N, print the following pattern :\n",
        "\n",
        "\n",
        "```\n",
        "1\n",
        "1 2\n",
        "1 2 3\n",
        "1 2 3 4\n",
        "```\n",
        "\n"
      ],
      "metadata": {
        "id": "rLGcDiAufvhQ"
      }
    },
    {
      "cell_type": "code",
      "source": [
        "n = int(input(\"Enter N:\"))\n",
        "for i in range(n):\n",
        "  for j in range(1,i+2):\n",
        "    print( j, end=' ')\n",
        "  print()"
      ],
      "metadata": {
        "colab": {
          "base_uri": "https://localhost:8080/"
        },
        "id": "9QQESbepfOPg",
        "outputId": "f03a4d15-1e99-4b1b-9bfc-fe5494dc5aa2"
      },
      "execution_count": 53,
      "outputs": [
        {
          "output_type": "stream",
          "name": "stdout",
          "text": [
            "Enter N:4\n",
            "1 \n",
            "1 2 \n",
            "1 2 3 \n",
            "1 2 3 4 \n"
          ]
        }
      ]
    },
    {
      "cell_type": "markdown",
      "source": [
        "# Pattern - 4: Right-Angled Number Pyramid - II"
      ],
      "metadata": {
        "id": "p2ZQJL-igu6p"
      }
    },
    {
      "cell_type": "code",
      "source": [
        "n = int(input(\"Enter N:\"))\n",
        "for i in range(n):\n",
        "  for j in range(i+1):\n",
        "    print( i+1, end=' ')\n",
        "  print()"
      ],
      "metadata": {
        "colab": {
          "base_uri": "https://localhost:8080/"
        },
        "id": "yJ3Hc8zXgOoS",
        "outputId": "a378b7aa-566c-4b90-8834-79cabb910006"
      },
      "execution_count": 54,
      "outputs": [
        {
          "output_type": "stream",
          "name": "stdout",
          "text": [
            "Enter N:4\n",
            "1 \n",
            "2 2 \n",
            "3 3 3 \n",
            "4 4 4 4 \n"
          ]
        }
      ]
    },
    {
      "cell_type": "markdown",
      "source": [
        "# Pattern-5: Inverted Right Pyramid\n",
        "\n",
        "\n",
        "```\n",
        "* * * * *\n",
        "* * * *\n",
        "* * *\n",
        "* *\n",
        "*\n",
        "```\n",
        "\n"
      ],
      "metadata": {
        "id": "qelGW1ishKKW"
      }
    },
    {
      "cell_type": "code",
      "source": [
        "n = int(input(\"Enter N:\"))\n",
        "for i in range(n,0,-1):\n",
        "  for j in range(i):\n",
        "    print(\"*\", end=\" \")\n",
        "  print()\n",
        "\n",
        "\"\"\" Chatgpt optimized\n",
        "n = int(input(\"Enter N:\"))\n",
        "for i in range(n, 0, -1):\n",
        "    print(\"* \" * i)\n",
        "\"\"\""
      ],
      "metadata": {
        "colab": {
          "base_uri": "https://localhost:8080/",
          "height": 140
        },
        "id": "DwpFsxjJhJeh",
        "outputId": "cdcf8a16-88cc-47da-efe1-4b66db195d80"
      },
      "execution_count": 55,
      "outputs": [
        {
          "output_type": "stream",
          "name": "stdout",
          "text": [
            "Enter N:5\n",
            "* * * * * \n",
            "* * * * \n",
            "* * * \n",
            "* * \n",
            "* \n"
          ]
        },
        {
          "output_type": "execute_result",
          "data": {
            "text/plain": [
              "' Chatgpt optimized \\nn = int(input(\"Enter N:\")) \\nfor i in range(n, 0, -1):\\n    print(\"* \" * i)\\n'"
            ],
            "application/vnd.google.colaboratory.intrinsic+json": {
              "type": "string"
            }
          },
          "metadata": {},
          "execution_count": 55
        }
      ]
    },
    {
      "cell_type": "markdown",
      "source": [
        "# Pattern - 6: Inverted Numbered Right Pyramid\n",
        "\n",
        "\n",
        "```\n",
        "12345\n",
        "1234\n",
        "123\n",
        "12\n",
        "1\n",
        "```\n",
        "\n"
      ],
      "metadata": {
        "id": "IhJiPLJf-JJn"
      }
    },
    {
      "cell_type": "code",
      "source": [
        "n = int(input(\"Enter N:\"))\n",
        "for i in range(n,0,-1):\n",
        "  for j in range(1,i+1):\n",
        "    print(j, end=\" \")\n",
        "  print()"
      ],
      "metadata": {
        "colab": {
          "base_uri": "https://localhost:8080/"
        },
        "id": "GsXJJRBLg7Fy",
        "outputId": "b5bd5c8a-3837-41db-e3a9-c79c9d6fd2e5"
      },
      "execution_count": 56,
      "outputs": [
        {
          "output_type": "stream",
          "name": "stdout",
          "text": [
            "Enter N:5\n",
            "1 2 3 4 5 \n",
            "1 2 3 4 \n",
            "1 2 3 \n",
            "1 2 \n",
            "1 \n"
          ]
        }
      ]
    },
    {
      "cell_type": "markdown",
      "source": [
        "# Pattern - 7: Star Pyramid\n",
        "\n",
        "\n",
        "N=3\n",
        "\n",
        "```\n",
        "    *\n",
        "   ***\n",
        "  *****\n",
        "```\n",
        "\n"
      ],
      "metadata": {
        "id": "2FBct62U-sN-"
      }
    },
    {
      "cell_type": "code",
      "source": [
        "n = int(input(\"Enter N:\"))\n",
        "for i in range(1, (2*n), 2):       # starting at 1 and increasing by 2 each time\n",
        "    spaces = (2*n - 1 - i)         # Calculate the number of leading spaces\n",
        "    print(\" \" * spaces, end=\"\")    # Print the spaces\n",
        "    for j in range(i):             # Print stars in the current row\n",
        "        print(\"*\", end=\" \")\n",
        "    print()                        # Move to the next\n",
        "\n",
        "# kinda confusing idk how i got this right it was just trial and error."
      ],
      "metadata": {
        "colab": {
          "base_uri": "https://localhost:8080/"
        },
        "id": "b_xMHZRF-YH7",
        "outputId": "f3365edb-683f-4f05-b900-bad3c2c2b668"
      },
      "execution_count": 63,
      "outputs": [
        {
          "output_type": "stream",
          "name": "stdout",
          "text": [
            "Enter N:5\n",
            "        * \n",
            "      * * * \n",
            "    * * * * * \n",
            "  * * * * * * * \n",
            "* * * * * * * * * \n"
          ]
        }
      ]
    },
    {
      "cell_type": "markdown",
      "source": [
        "# Pattern - 8: Inverted Star Pyramid\n"
      ],
      "metadata": {
        "id": "T7wy7BSiDNEN"
      }
    },
    {
      "cell_type": "code",
      "source": [
        "n = int(input(\"Enter N:\"))\n",
        "for i in range(2*n-1, 0, -2):    # Start from 2*n-1 and decrease by 2\n",
        "    spaces = (2*n - 1 - i)       # Calculate leading spaces\n",
        "    print(\" \" * spaces, end=\"\")  # Print spaces\n",
        "    for j in range(i):           # Print stars in the current row\n",
        "        print(\"*\", end=\" \")\n",
        "    print()                      # Move to the next line\n"
      ],
      "metadata": {
        "colab": {
          "base_uri": "https://localhost:8080/"
        },
        "id": "6a3Jx8Yi_-cp",
        "outputId": "33fdced2-3a10-4f73-9a5d-736668a86479"
      },
      "execution_count": 62,
      "outputs": [
        {
          "output_type": "stream",
          "name": "stdout",
          "text": [
            "Enter N:5\n",
            "* * * * * * * * * \n",
            "  * * * * * * * \n",
            "    * * * * * \n",
            "      * * * \n",
            "        * \n"
          ]
        }
      ]
    },
    {
      "cell_type": "markdown",
      "source": [
        "# Pattern - 9: Diamond Star Pattern\n"
      ],
      "metadata": {
        "id": "Rvk1UthFGBGs"
      }
    },
    {
      "cell_type": "code",
      "source": [
        "n = int(input(\"Enter N:\"))\n",
        "\n",
        "# First Half\n",
        "for i in range(1, (2*n), 2):       # starting at 1 and increasing by 2 each time\n",
        "    spaces = (2*n - 1 - i)         # Calculate the number of leading spaces\n",
        "    print(\" \" * spaces, end=\"\")    # Print the spaces\n",
        "    for j in range(i):             # Print stars in the current row\n",
        "        print(\"*\", end=\" \")\n",
        "    print()                        # Move to the next\n",
        "\n",
        "# Bottom Half\n",
        "for i in range(2*n-1, 0, -2):    # Start from 2*n-1 and decrease by 2\n",
        "    spaces = (2*n - 1 - i)       # Calculate leading spaces\n",
        "    print(\" \" * spaces, end=\"\")  # Print spaces\n",
        "    for j in range(i):           # Print stars in the current row\n",
        "        print(\"*\", end=\" \")\n",
        "    print()                      # Move to the next line\n"
      ],
      "metadata": {
        "colab": {
          "base_uri": "https://localhost:8080/"
        },
        "id": "VUcNF_VLDVhZ",
        "outputId": "8a816b71-a478-4caa-f11d-4fe5d2e19dd7"
      },
      "execution_count": 61,
      "outputs": [
        {
          "output_type": "stream",
          "name": "stdout",
          "text": [
            "Enter N:5\n",
            "        * \n",
            "      * * * \n",
            "    * * * * * \n",
            "  * * * * * * * \n",
            "* * * * * * * * * \n",
            "* * * * * * * * * \n",
            "  * * * * * * * \n",
            "    * * * * * \n",
            "      * * * \n",
            "        * \n"
          ]
        }
      ]
    },
    {
      "cell_type": "markdown",
      "source": [
        "# Pattern - 10: Half Diamond Star Pattern\n",
        "\n",
        "\n",
        "\n",
        "```\n",
        "*\n",
        "* *\n",
        "* * *\n",
        "* *\n",
        "*\n",
        "```\n",
        "\n"
      ],
      "metadata": {
        "id": "R3nxNCGSG98T"
      }
    },
    {
      "cell_type": "code",
      "source": [
        "n= int(input(\"ENter N:\"))\n",
        "for i in range(n+1):\n",
        "  for j in range(i):\n",
        "    print(\"*\", end=\" \")\n",
        "  print()\n",
        "for i in range(n,1,-1):\n",
        "  for j in range(i-1):\n",
        "    print(\"*\", end=\" \")\n",
        "  print()\n",
        "\n",
        "# this solution is very brute so i got a better one\n",
        "\"\"\"\n",
        "# Single loop for both upper and lower parts\n",
        "for i in range(1, 2*n):\n",
        "    if i <= n:  # Upper pyramid\n",
        "        print(\"* \" * i)\n",
        "    else:       # Lower inverted pyramid\n",
        "        print(\"* \" * (2*n - i))\n",
        "\"\"\""
      ],
      "metadata": {
        "colab": {
          "base_uri": "https://localhost:8080/",
          "height": 174
        },
        "id": "mJqeJhuPG9mZ",
        "outputId": "5f582e4f-00f0-4cdd-d67f-5af17d21c707"
      },
      "execution_count": 60,
      "outputs": [
        {
          "output_type": "stream",
          "name": "stdout",
          "text": [
            "ENter N:3\n",
            "\n",
            "* \n",
            "* * \n",
            "* * * \n",
            "* * \n",
            "* \n"
          ]
        },
        {
          "output_type": "execute_result",
          "data": {
            "text/plain": [
              "'\\n# Single loop for both upper and lower parts\\nfor i in range(1, 2*n):  \\n    if i <= n:  # Upper pyramid\\n        print(\"* \" * i)\\n    else:       # Lower inverted pyramid\\n        print(\"* \" * (2*n - i))\\n'"
            ],
            "application/vnd.google.colaboratory.intrinsic+json": {
              "type": "string"
            }
          },
          "metadata": {},
          "execution_count": 60
        }
      ]
    },
    {
      "cell_type": "markdown",
      "source": [
        "# Pattern - 11: Binary Number Triangle Pattern\n",
        "\n",
        "\n",
        "\n",
        "```\n",
        "1\n",
        "01\n",
        "101\n",
        "0101\n",
        "```\n",
        "\n"
      ],
      "metadata": {
        "id": "0YBnFyjfpMyF"
      }
    },
    {
      "cell_type": "code",
      "source": [
        "n = int(input(\"Enter N:\"))\n",
        "for i in range(n):\n",
        "  if i % 2 == 0:\n",
        "    start = 1\n",
        "  else:\n",
        "    start = 0\n",
        "  for j in range(i+1):\n",
        "    print(start, end=' ')\n",
        "    start = 1-start # flip - this is the only part i couldnt figure out.\n",
        "  print()"
      ],
      "metadata": {
        "colab": {
          "base_uri": "https://localhost:8080/"
        },
        "id": "e_KCnL2vGZoQ",
        "outputId": "a0164984-98f5-4035-84fa-eaf7f1d2b6cb"
      },
      "execution_count": 8,
      "outputs": [
        {
          "output_type": "stream",
          "name": "stdout",
          "text": [
            "Enter N:4\n",
            "1 \n",
            "0 1 \n",
            "1 0 1 \n",
            "0 1 0 1 \n"
          ]
        }
      ]
    },
    {
      "cell_type": "markdown",
      "source": [
        "# Pattern - 12: Number Crown Pattern\n",
        "\n",
        "![image.png](data:image/png;base64,iVBORw0KGgoAAAANSUhEUgAAAKoAAACZCAIAAAAw+jbWAAAJh0lEQVR4Ae2dTW/TTBDH+UhOGuXAmQPiG0B5U3unBdRDQuHYSxQhcUdCwKVXeFwhRJVwD6K8tN8AVahnDlVpg8Q8/DGeeDuJd9e79vjwPBt7dmfm/4vXm2W9vTDVo8EKXGhw7pr6VPE3+kug+BV/oxVodPJ69yv+RivQ6OT17lf8jVag0cnr3a/4G61Ao5PXu1/xN1qBRievd7/ib7QCjU5e737F32gFGp28p7v/6Ojo/fv34/H469evZ2dnjZI85Nw94R+NRhcvXux2uxsbGycnJ43CH3LubvHv7+8/evTowYMHq6urrVYrSZK7d+82BH8UubvF/+nTp3v37q2trS0vLzcNfxS5u8V/enp6/Pt4+/Ztp9Np1N0fRe5u8eMZv7u72zT8UeSu+IHJVSHkr77id0Ud7Sr+acgSgJOjQsi5693vCPrfZhW/3v2B/urRu//vbeqo1Ny7H9PdT548WVpaSpLk5s2bu7u7TZj8jyJ3t3c/prvpR3+SJO12u/v7qP3kfxS5u8V/eHiYpul/s47JZFLvf/qLIne3+B09TbVZWwoofltKRtmO4o8Sm62gFb8tJaNsR/FHic1W0IrflpJRtqP4o8RmK2jFb0vJKNtR/FFisxW04relZJTtKP4osdkKWvHbUjLKdhR/lNhsBa34bSkZZTuKP0pstoJW/LaUjLIdxR8lNltBK35bSkbZjuKPEputoBW/LSWjbMcT/v39/YcPH/b7/ZcvX/78+ZNLtb293f/32Nvb42ZBnRHGfG7uFSblFj9f68539yCb1dXVS5cu3blzB3tBDIfDYDcCksQsyb1C8OTaLX6+1p3jJ5t2u72+vv7jx4/j42PaC6LT6QT7LoAkZknuNcd/eHi4s7OTpulgMKC3fDh+/g4UP1O5TLkAeIT8jCT3XLP+P7q9+5EPVweXsAfO06dPaVhgMEatagtzxRxyOtXjxx442PErZL3oazdXzCGnUz3+3H28vb1Nu8BtbW3F8iKYOWbFL3q/PzecnkwmuW9GgB8lMSt+Ef7ccPr09DRA3rmQJDEr/vPxm/vPnOiBfBTGrPhN+CX9ZyC8EcZcMSt+E35J/wndAynMFXNz8WO6G1s6X758udfrZSf/oQ4uYe6/6B8IKv8SSGKW5F55Im5/+GF6ZI0dmOSR2FQuUy4AScwSm1yz/j+6xY/pEdrYOftfTPJIbPzrYvYoiVliY/bi4apb/B4SUBdlFFD8ZdSLvq7ijx5hmQQUfxn1oq+r+KNHWCYBxV9GvejrKv7oEZZJQPGXUS/6uoo/eoRlElD8ZdSLvq7ijx5hmQQUfxn1oq+r+KNHWCYBxV9GvejrKv7oEZZJQPGXUS/6uoo/eoRlElD8ZdSLvq4n/Fj3WLR6U7JVgsTGFhCJL4nNdDo9N3dbMS/Qjlv8tB5+PB7jzzjyF7xza+Znbu9ANoPBACtGl5eXW62Wiy0gJL7kMZtzXwCY3Spu8dN6+G63iz/jyPHn1szP3N6BbNI0xWJRd1tASHzJYzbnbpflAq25xS/Z4gBr5vHN4GeonW/fviFDboNLJQsSX9w7PyPJvWSo5au7xY/4uDq4hPXwWPlvMEYtiQ2MSxa4r7li5tVLxmOxevX4sR4eK/8leklsbMnEfc0VM69uK7Dy7VSPP5eD+bVZjKI9bAEh92WOWfGbXvEE/txweub2Duh13Y38EY/ElyRmxS/CnxtOz9zeAb2uu5E/8Et8SWJW/OfjN/efQIKCT02LfAljLqqOXCosVP/sl/SfZPP9+3co5U5TiS9JzB5ChYuFC9Xjl/SfZPPmzRvk6Q6/xJckZg+hwsXCBbf4c4PnJEmwhwMm/wESl/j2DjSF8vjxY1xyN/KX+JLELMl9YWy2KrrFj8Ez5upRwCSPxIayff78OapTYeavAyvSmH1JYpbYWAm1TCNu8WPwjLl6FDDJI7GhDE9OTlCdCjN/HZSRA3XNviQxS2zgrqqCW/xVZaV+hQoofqFQ9TRT/PXkKsxK8QuFqqeZ4q8nV2FWil8oVD3NFH89uQqzUvxCoepppvjryVWYleIXClVPM8VfT67CrBS/UKh6min+enIVZqX4hULV00zx15OrMCvFLxSqnmaKv55chVkpfqFQ9TRT/PXkKszKE/6jo6PxeDwajb58+XJ2dsaDOzg4GP17ZFf1k73EZjqdwhe1x9uR2Eh8SWyyvopy52p4O+MJPy2M73a7GxsbWOSZTXJzc7P775Fd1U+WEpvpdApf1B5vR2Ij8SWxyfoqyj2rg+eyW/x8rTv2cECeZHPlypVr1669evUqTdPBYLC0tHT79m28C0A2z549S/8c3AYNYhF+8vvY2dnBJRQMNhJf8pj7/T7+hCXPHfFUVXCL//Pnz/fv319fX79+/Xqr1UqShEsAErjEz1A7Hz58gEzchi4dHBxgH6Ei/GYbiS/unZ+R5I50qiq4xY+17vRC7sL4qZ3sqn4uNym4ubmJfYSK8JttJL64d35GkntV1OHXLX644ergEvbAmUwmNCo0GKNWkU2v16OHyK1bt4rwS2zgaDqd8XryXDEXhZp1UVW5evy5zNEzX716FS+CwQajeurhszZ0aWVlhR4ivV6P45fYSHzBhgrmmBX/jBsopyA+omd+/fo1/42AUT318FkbvHVrwC+xQSQGX7ChgjlmxS/CnxtOZ7dxg9zodfnIn1Te2tqih8jMu19iI/EFG0nMiv98/Ob+E3KjkNMU1YfDIc32rKysUOc/HA5pvkVig/azhZwvXEKD2WcQrqJQVB0GFRZCefab+08uUE5TVO90OjTb0263CX+n06H5FokNdzRz6EdmaDD7DOIt5ELlBhWeqR6/pP8km729PSiV0/Tjx49/JoT+/z9G/ngcSGywA7PBF2wwVTXzOVUUKs6HUHCLPzdQT5Lkxo0b7969y07+AyQuYe4fk+Q0hfLixQtc4iN/UhPz8Lzzh9xmG4kvScyS3BFSVQW3+HOD5yRJ2u02dc6YAIeUuIS5f9jQFEq/38clPvInBTEPzzt/SGy2kfiSxCzJHSFVVXCLHwP1XM+cpikmeSQ2pA7vvXmvy22yvorakdhkfUlilthURR1+3eKHGy2EqYDiD5OLp6gUvyehw3Sj+MPk4ikqxe9J6DDdKP4wuXiKSvF7EjpMN4o/TC6eolL8noQO043iD5OLp6gUvyehw3Sj+MPk4ikqxe9J6DDdKP4wuXiKSvF7EjpMN4o/TC6eolL8noQO043iD5OLp6gUvyehw3TzCzUrX0+T2ztCAAAAAElFTkSuQmCC)"
      ],
      "metadata": {
        "id": "fb7PlDyLsOEB"
      }
    },
    {
      "cell_type": "code",
      "source": [
        "n = int(input(\"Enter N:\"))\n",
        "for i in range(n):\n",
        "  #numbers\n",
        "  for j in range(1, i+2):\n",
        "    print(j,end='')\n",
        "\n",
        "  #spaces\n",
        "  spaces = 2*n - i*2 - 2 # to simplify it (n - i - 1) * 2\n",
        "  print(\" \" * spaces, end='')\n",
        "\n",
        "  #numbers-reverse\n",
        "  for j in range(i+1, 0, -1):\n",
        "    print(j,end='')\n",
        "\n",
        "  print()\n",
        "  # started asking gpt to rate my code. 8.5/10"
      ],
      "metadata": {
        "colab": {
          "base_uri": "https://localhost:8080/"
        },
        "id": "UTmj_FtfqKfx",
        "outputId": "8725e27f-6093-4be6-ceb5-05e3c10b903a"
      },
      "execution_count": 43,
      "outputs": [
        {
          "output_type": "stream",
          "name": "stdout",
          "text": [
            "Enter N:6\n",
            "1          1\n",
            "12        21\n",
            "123      321\n",
            "1234    4321\n",
            "12345  54321\n",
            "123456654321\n"
          ]
        }
      ]
    },
    {
      "cell_type": "markdown",
      "source": [
        "# Pattern - 13: Increasing Number Triangle Pattern\n",
        "\n",
        "\n",
        "![image.png](data:image/png;base64,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)"
      ],
      "metadata": {
        "id": "BRH-9jf-yOPj"
      }
    },
    {
      "cell_type": "code",
      "source": [
        "n = int(input(\"Enter N:\"))\n",
        "count = 1\n",
        "for i in range(n):\n",
        "  for j in range(i+1):\n",
        "    print(count, end=' ')\n",
        "    count += 1\n",
        "  print()\n",
        "\n",
        "#well that was easy. - Floyd's Triangle - 9.5/10"
      ],
      "metadata": {
        "colab": {
          "base_uri": "https://localhost:8080/"
        },
        "id": "x-9d0iDutQru",
        "outputId": "6467171c-f9e5-48b6-91b9-a496852f0fc9"
      },
      "execution_count": 47,
      "outputs": [
        {
          "output_type": "stream",
          "name": "stdout",
          "text": [
            "Enter N:5\n",
            "1 \n",
            "2 3 \n",
            "4 5 6 \n",
            "7 8 9 10 \n",
            "11 12 13 14 15 \n"
          ]
        }
      ]
    },
    {
      "cell_type": "markdown",
      "source": [
        "# Pattern-14: Increasing Letter Triangle Pattern\n",
        "\n",
        "\n",
        "![image.png](data:image/png;base64,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)"
      ],
      "metadata": {
        "id": "JzxsNYSiz4H4"
      }
    },
    {
      "cell_type": "code",
      "source": [
        "n = int(input(\"Enter N:\"))\n",
        "for i in range(n):\n",
        "  charA= 65\n",
        "  for j in range(1,i+2):\n",
        "    print(chr(charA), end=' ')\n",
        "    charA +=1\n",
        "  print()\n",
        "#9.5/10"
      ],
      "metadata": {
        "colab": {
          "base_uri": "https://localhost:8080/"
        },
        "id": "sh2cMnDZyhAK",
        "outputId": "14637dd7-f684-4cd2-9dff-c22e5db037cd"
      },
      "execution_count": 52,
      "outputs": [
        {
          "output_type": "stream",
          "name": "stdout",
          "text": [
            "Enter N:5\n",
            "A \n",
            "A B \n",
            "A B C \n",
            "A B C D \n",
            "A B C D E \n"
          ]
        }
      ]
    },
    {
      "cell_type": "markdown",
      "source": [
        "# Pattern-15: Reverse Letter Triangle Pattern\n",
        "\n",
        "\n",
        "![image.png](data:image/png;base64,iVBORw0KGgoAAAANSUhEUgAAAHgAAACwCAIAAABLvT1cAAAJBElEQVR4Ae2dwWsTQRTG/ZO2hBaK0pOC9JASWM3Bo+JNkkNzaa560INSIoFACHrwotf0sh4SvIkePVQDpTkUoZ5EKbSERujTzyFvm6zN7Leb+vYQh8nsfDO/fXmdlW92r4ztoBC4QlExkbGBJgWBgTbQJAIkGYtoA00iQJKxiDbQJAIkGYtoA00iQJKxiDbQJAIkGYtoA00iQJLxE9FHR0cfP37sq2Nvb0/mMRwO1Ze/K9DGnbHu8P379z9+/IjtR77C6bFtoD7RGGelXfADejgc3rlzZ0UdzWZTJtDpdNSXvyvQxp2q7jAMwy9fvsT2I1/h9Ng2UJ9ojLPSLvgB/fPnz3fv3nW73RcvXty8eTP4czQaDZnAYDDAV9evX2+322gchuGzZ8++fv2Kqfb7/Wq1ura2VqlUumfH5ubmxsbG58+fdT+bm5tXr1598ODB27dvp2hN9CMtmZ9+QMuIh8Phmzdv1tfXi8Xi/fv3r127VqvV8FPd39+/fft2EASCbDwe6xrJGPV6fXV19e7du91uV3put9vnnRVF0Uyt4XAow3D7YVIej73+x3+n01leXl5aWtre3h4MBrdu3SoUCvipaqy6RjJGoVAoFoufPn0ajUYzQY9Go5lanU5HhnFJQLfbbckZjUZDQ0SN/NLr9TryQ6/X+/79e2yMC+jBYDClDXrWUS9a5XIZmQf9LHBEJwQtaaFSqcz8yceymIJVgxatUqmEr2L7JFT6zNEJQUtaOD4+nvmTj53/P4EWrVardUlAf/v2rdFolMtlSR1hGEpaCIIAS4J/AjSFywX6Qebp9/sTK5zYa5lGpZ+IxuSRFipnR6lUSpK1gfXw8PDx48elUunGjRuvXr3CvQyWDTqPu0udhw8fHhwc6DYAt/B/DAEaaeH47Gi1Wv8E+vT09OTkpNVqLS0tLS8v414GywYN0V3qnJycnJ6e6jaXBDTuL9xEMTOZxK46hAjuSsIwrJ8dzWZTVgtaq1wuyx3Q7u6unK7bSCf1eh3LD6CnFTykjiiKJFHgs9vtShJAzZQC7krcOU+cjjZaq1KpIGNID7FtMICJxq5oqmUPoEejkSQKfI5GI0kCqJlSwF2JO8+J09FGax0fHyNjSA+xbTCAicauaKplD6BTHd+l6dxAky6lgTbQJAIkGYtoA00iQJKxiDbQJAIkGYtoA00iQJKxiDbQJAIkGYtoA00iQJKxiDbQJAIkGYtoA00iQJKxiF4o0No3LsZv15gBK/hEAW3cGesOxQ4aazKHYdXtIW9lPxGtfeNi/HaNGbCCTxTQxkWjOxQ7aKzJHIZVt4e8lf2AFiP6zs7Oy5cvzzOi4yuxYaBxGIZPnz51jei9Xq9SqaytrVWr1Z2zo1ariZtpMBhM9FOr1cR1FkVR3uC64/EDWnp03VlJnKLwN8ES5suI7s4wJ2WfoF13VhKnqAbty4ieE7juMHyCTmjblV/61tYW8kO/359pRJ/SRl8wd4Y5KWcAGo7TJOlFY9JYdY0+K/OaDEDDcZokvWhAGquu0WdlXuMHtPaOSlqAvzSKIo0jSY0GdLGzdD/kGj+gMXmkBXFvZmVEJ0NMIucZNNKCuDezMqInmTm5jQfQuL9wE8XMZBK76pDJ464kDMOts6PZbMqqQ2tpIzqZYEI5D6C18TtbI3rCmZObeQCtjd/ZGtHJBBPKeQCdUOk/b2agSQFgoA00iQBJxiLaQJMIkGQsog00iQBJxiLaQJMIkGQsog00iQBJxiLaQJMIkGQsog00iQBJxiLaQJMIkGQsog00iQBJxiJ6oUCLi0M8GO4nzOG9Xs+td8to485YdzhhVncbL0TZT0TjeYBiEJXHZAZBgEfP47nlQRDANqbdpILMNbTDWgaz+kJg1YP0AxrPAxSDqAaN55YHQQDbmHaTyvhcQzusZQb678WDX6tarcpOE3d/CoyQQKZrYCSbeNxohk/J/Tu9+Up+IlrGkNDxL48s7vf7ePMCnheq0UvPURShzXzzzezsDEDLI4tXVlbw5gU8L/Q80KPRCG0yQzWfcAagp2x/Ow/0fHPMxdl+QGPbmvwZrNVqkhaCIMCzzTXEJDW5gORjEH5AY9uagC4UCpIWgiDAs82TYNVtfMwxF334AQ1ASAvY8Srop7+ZBesQ2YGrN8P2ej27YRnj/sJNFDOTSeyqQ2IPdze1Wk126LdaLVt1jHF/4SaKmckkdtUhoHF3UygUZIf+8+fPbdUxHgwGkijwubu7i234qDyvgJcguKl04vTYNm77/Jf95Oj8zzPzERpo0iUw0AaaRIAkYxFtoEkESDIW0QaaRIAkYxFtoEkESDIW0QaaRIAkYxFtoEkESDIW0QaaRIAkYxFtoEkESDIW0QaaRIAkYxG9UKD1uw/mfJkCafZEGT8Rrd99MOfLFIgESFJ+QMOGgTcdwAkm88DjRoMggG1Mm9VJk85Cxg9oGTm8YcViUe9PgT8PTjtdkwUBkqZP0PCGbW9v6/0pGquuIU06CxmfoBNurZjyMoUsCJA0MwA9c/sbaepcmQxAz9z+xiVAUvMDGtvWZLERhuHFXqZAmnQWMn5A488a0gJ2vGKdhza26rj4hQZEpAXseDXQgtVDRGPDrK+XKVz8guf4TA+g03iZQo6JXXBoHkCn8TKFC84mx6d5AJ3j2eVoaAaadDEMtIEmESDJWEQbaBIBkoxFtIEmESDJWEQbaBIBkoxFtIEmESDJWEQbaBIBkoxFtIEmESDJWEQbaBIBkoxF9EKBPjo6+vDhQ08de3t7pHnkXsZPRM80oueeQ+oD9AN6phE99XnkXsAPaJnm/v7+69ev19fXNzY2tBE99yjSHaBP0NON6OnOI/e9+wQ93YieexTpDtBAp8sXvRtooEi34Ad0EiN6uvPIfe9+QMMfvbq6eu/eveqfo1QqwR+dexTpDtAz6ClG9HTnkfvePYBOaERf9LchzHkpPYCOouhPqvj9787OzuHh4ZMnT9z6R48eHRwczDncxT3dA+iERvRFfxvCnNfYA+g5R/CfnG6gSRfaQBtoEgGSjEW0gSYRIMlYRBtoEgGSjEW0gSYRIMlYRBtoEgGSzC841M2SRAFmlgAAAABJRU5ErkJggg==)"
      ],
      "metadata": {
        "id": "ri6tF1hD01aP"
      }
    },
    {
      "cell_type": "code",
      "source": [
        "n = int(input(\"Enter N:\"))\n",
        "for i in range(n,0,-1):\n",
        "  charA= 65\n",
        "  for j in range(1,i+1):\n",
        "    print(chr(charA), end=' ')\n",
        "    charA +=1\n",
        "  print()\n",
        "#9.5/10"
      ],
      "metadata": {
        "colab": {
          "base_uri": "https://localhost:8080/"
        },
        "id": "u5yyw9YLz5sx",
        "outputId": "3e9f3996-1896-4958-cff3-6609175fec9d"
      },
      "execution_count": 51,
      "outputs": [
        {
          "output_type": "stream",
          "name": "stdout",
          "text": [
            "Enter N:5\n",
            "A B C D E \n",
            "A B C D \n",
            "A B C \n",
            "A B \n",
            "A \n"
          ]
        }
      ]
    },
    {
      "cell_type": "markdown",
      "source": [
        "# Pattern - 16: Alpha-Ramp Pattern\n",
        "\n",
        "\n",
        "![image.png](data:image/png;base64,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)"
      ],
      "metadata": {
        "id": "A2NwsX6V1osX"
      }
    },
    {
      "cell_type": "code",
      "source": [
        "n = int(input(\"Enter N:\"))\n",
        "charA= 65\n",
        "for i in range(n):\n",
        "  for j in range(i+1):\n",
        "    print(chr(charA), end=' ')\n",
        "  charA +=1\n",
        "  print()\n",
        "# 9.7/10"
      ],
      "metadata": {
        "colab": {
          "base_uri": "https://localhost:8080/"
        },
        "id": "2LZmYwk31Cwo",
        "outputId": "38ec6937-8e47-403e-f139-ea7f66a01b8e"
      },
      "execution_count": 55,
      "outputs": [
        {
          "output_type": "stream",
          "name": "stdout",
          "text": [
            "Enter N:5\n",
            "A \n",
            "B B \n",
            "C C C \n",
            "D D D D \n",
            "E E E E E \n"
          ]
        }
      ]
    },
    {
      "cell_type": "markdown",
      "source": [
        "# Pattern - 17: Alpha-Hill Pattern\n",
        "\n",
        "\n",
        "![image.png](data:image/png;base64,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)"
      ],
      "metadata": {
        "id": "G5b9C0S62lbb"
      }
    },
    {
      "cell_type": "code",
      "source": [
        "n = int(input(\"Enter N:\"))\n",
        "for i in range(1, (2*n), 2):\n",
        "    spaces = (2*n - 1 - i)\n",
        "    print(\" \" * spaces, end=\"\")\n",
        "    charA = 65\n",
        "    for j in range(i//2):\n",
        "        print(chr(charA), end=\" \")\n",
        "        charA += 1\n",
        "    for j in range((i//2)+1):\n",
        "        print(chr(charA), end=\" \")\n",
        "        charA -= 1\n",
        "    print()\n",
        "#9.3/10"
      ],
      "metadata": {
        "colab": {
          "base_uri": "https://localhost:8080/"
        },
        "id": "s0cGJXnJdIVD",
        "outputId": "c1806ab7-5252-4344-99f0-d605c217b566"
      },
      "execution_count": 11,
      "outputs": [
        {
          "output_type": "stream",
          "name": "stdout",
          "text": [
            "Enter N:4\n",
            "      A \n",
            "    A B A \n",
            "  A B C B A \n",
            "A B C D C B A \n"
          ]
        }
      ]
    },
    {
      "cell_type": "markdown",
      "source": [
        "# Pattern-18: Alpha-Triangle Pattern\n",
        "\n",
        "\n",
        "![image.png](data:image/png;base64,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)"
      ],
      "metadata": {
        "id": "ZUjBJHbN2pTU"
      }
    },
    {
      "cell_type": "code",
      "source": [
        "n = int(input(\"Enter N:\"))\n",
        "count = 0\n",
        "for i in range(n):\n",
        "  charA= 64 + n - i\n",
        "  for j in range(1,i+2):\n",
        "    print(chr(charA), end=' ')\n",
        "    charA += 1\n",
        "  print()\n",
        "#9.7/10"
      ],
      "metadata": {
        "colab": {
          "base_uri": "https://localhost:8080/"
        },
        "id": "6_B3i4s0fXeF",
        "outputId": "2ecfd201-051d-4d2f-8418-275b5fdda3d9"
      },
      "execution_count": 12,
      "outputs": [
        {
          "output_type": "stream",
          "name": "stdout",
          "text": [
            "Enter N:5\n",
            "E \n",
            "D E \n",
            "C D E \n",
            "B C D E \n",
            "A B C D E \n"
          ]
        }
      ]
    },
    {
      "cell_type": "markdown",
      "source": [
        "# Pattern-19: Symmetric-Void Pattern\n",
        "\n",
        "\n",
        "![image.png](data:image/png;base64,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)"
      ],
      "metadata": {
        "id": "qNqpgiJi21U1"
      }
    },
    {
      "cell_type": "code",
      "source": [
        "n = int(input(\"Enter N:\"))\n",
        "#Top Half\n",
        "for i in range(n,0,-1):\n",
        "  #left\n",
        "  for j in range(1, i+1):\n",
        "    print(\"*\",end='')\n",
        "\n",
        "  #spaces\n",
        "  spaces = 2*n - i*2\n",
        "  print(\" \" * spaces, end='')\n",
        "\n",
        "  #right\n",
        "  for j in range(1, i+1):\n",
        "    print(\"*\",end='')\n",
        "\n",
        "  print()\n",
        "\n",
        "#Bottom Half\n",
        "for i in range(n):\n",
        "  #left\n",
        "  for j in range(1, i+2):\n",
        "    print(\"*\",end='')\n",
        "\n",
        "  #spaces\n",
        "  spaces = 2*n - i*2 - 2 # to simplify it (n - i - 1) * 2\n",
        "  print(\" \" * spaces, end='')\n",
        "\n",
        "  #right\n",
        "  for j in range(1, i+2):\n",
        "    print(\"*\",end='')\n",
        "\n",
        "  print()\n",
        "  #8.5/10"
      ],
      "metadata": {
        "colab": {
          "base_uri": "https://localhost:8080/"
        },
        "id": "5W9B8Mg-Fvto",
        "outputId": "e3edad40-30ee-43e3-faac-03a3d5cd4e59"
      },
      "execution_count": 35,
      "outputs": [
        {
          "output_type": "stream",
          "name": "stdout",
          "text": [
            "Enter N:7\n",
            "**************\n",
            "******  ******\n",
            "*****    *****\n",
            "****      ****\n",
            "***        ***\n",
            "**          **\n",
            "*            *\n",
            "*            *\n",
            "**          **\n",
            "***        ***\n",
            "****      ****\n",
            "*****    *****\n",
            "******  ******\n",
            "**************\n"
          ]
        }
      ]
    },
    {
      "cell_type": "markdown",
      "source": [
        "# Pattern - 20: Symmetric-Butterfly Pattern\n",
        "\n",
        "\n",
        "![image.png](data:image/png;base64,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)"
      ],
      "metadata": {
        "id": "juT2nztX29eE"
      }
    },
    {
      "cell_type": "code",
      "source": [
        "n = int(input(\"Enter N:\"))\n",
        "\n",
        "#Top Half\n",
        "for i in range(n):\n",
        "  #left\n",
        "  for j in range(1, i+2):\n",
        "    print(\"*\",end='')\n",
        "\n",
        "  #spaces\n",
        "  spaces = 2*n - i*2 - 2 # to simplify it (n - i - 1) * 2\n",
        "  print(\" \" * spaces, end='')\n",
        "\n",
        "  #right\n",
        "  for j in range(1, i+2):\n",
        "    print(\"*\",end='')\n",
        "\n",
        "  print()\n",
        "\n",
        "#Bottom Half\n",
        "for i in range(n-1,0,-1):\n",
        "  #left\n",
        "  for j in range(1, i+1):\n",
        "    print(\"*\",end='')\n",
        "\n",
        "  #spaces\n",
        "  spaces = 2*n - i*2\n",
        "  print(\" \" * spaces, end='')\n",
        "\n",
        "  #right\n",
        "  for j in range(1, i+1):\n",
        "    print(\"*\",end='')\n",
        "\n",
        "  print()"
      ],
      "metadata": {
        "colab": {
          "base_uri": "https://localhost:8080/"
        },
        "id": "dIGKlumiFwzV",
        "outputId": "15e482a1-30aa-4b4f-86bb-0fd3c2656a04"
      },
      "execution_count": 40,
      "outputs": [
        {
          "output_type": "stream",
          "name": "stdout",
          "text": [
            "Enter N:7\n",
            "*            *\n",
            "**          **\n",
            "***        ***\n",
            "****      ****\n",
            "*****    *****\n",
            "******  ******\n",
            "**************\n",
            "******  ******\n",
            "*****    *****\n",
            "****      ****\n",
            "***        ***\n",
            "**          **\n",
            "*            *\n"
          ]
        }
      ]
    },
    {
      "cell_type": "markdown",
      "source": [
        "# Pattern - 21: Hollow Rectangle Pattern\n",
        "\n",
        "\n",
        "![image.png](data:image/png;base64,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)"
      ],
      "metadata": {
        "id": "gBhmEufg3JJw"
      }
    },
    {
      "cell_type": "code",
      "source": [
        "n = int(input(\"ENter N:\"))\n",
        "for i in range(n):\n",
        "  if i in [0,n-1]:\n",
        "    for j in range(n):\n",
        "      print(\"*\",end=' ')\n",
        "  else:\n",
        "    for j in range(n):\n",
        "      if j in [0,n-1]:\n",
        "        print(\"*\",end=\" \")\n",
        "      else:\n",
        "        print(\" \", end=' ')\n",
        "  print()\n",
        "#9.2/10\n",
        ""
      ],
      "metadata": {
        "colab": {
          "base_uri": "https://localhost:8080/"
        },
        "id": "wtal5l04Fxqa",
        "outputId": "7c8a0d47-af45-4fdf-c172-7d1aa4c3f1ff"
      },
      "execution_count": 46,
      "outputs": [
        {
          "output_type": "stream",
          "name": "stdout",
          "text": [
            "ENter N:8\n",
            "* * * * * * * * \n",
            "*             * \n",
            "*             * \n",
            "*             * \n",
            "*             * \n",
            "*             * \n",
            "*             * \n",
            "* * * * * * * * \n"
          ]
        }
      ]
    },
    {
      "cell_type": "markdown",
      "source": [
        "# Pattern - 22: The Number Pattern\n",
        "\n",
        "\n",
        "![image.png](data:image/png;base64,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)"
      ],
      "metadata": {
        "id": "aOBtxqRb3M8X"
      }
    },
    {
      "cell_type": "code",
      "source": [
        "n= int(input(\"ENter N:\"))\n",
        "for i in range(2*n-1):\n",
        "  for j in range(2*n-1):\n",
        "    top = i\n",
        "    bottom = j\n",
        "    right = (2*n - 2) - j\n",
        "    left = (2*n - 2) - i\n",
        "    print((n- min(min(top,bottom), min(left,right))), end=' ')\n",
        "  print()\n",
        "  # im tired i dont even wanna understand this problem but it looks pretty."
      ],
      "metadata": {
        "colab": {
          "base_uri": "https://localhost:8080/"
        },
        "id": "FBKhdOmo14bs",
        "outputId": "b08b925a-0db0-4019-8d0c-8005a6fb7405"
      },
      "execution_count": 49,
      "outputs": [
        {
          "output_type": "stream",
          "name": "stdout",
          "text": [
            "ENter N:5\n",
            "5 5 5 5 5 5 5 5 5 \n",
            "5 4 4 4 4 4 4 4 5 \n",
            "5 4 3 3 3 3 3 4 5 \n",
            "5 4 3 2 2 2 3 4 5 \n",
            "5 4 3 2 1 2 3 4 5 \n",
            "5 4 3 2 2 2 3 4 5 \n",
            "5 4 3 3 3 3 3 4 5 \n",
            "5 4 4 4 4 4 4 4 5 \n",
            "5 5 5 5 5 5 5 5 5 \n"
          ]
        }
      ]
    }
  ]
}
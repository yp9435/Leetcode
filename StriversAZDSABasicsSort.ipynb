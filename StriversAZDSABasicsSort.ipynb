{
  "nbformat": 4,
  "nbformat_minor": 0,
  "metadata": {
    "colab": {
      "provenance": [],
      "authorship_tag": "ABX9TyPPfPRq0JuqIfc7a50aT4NP",
      "include_colab_link": true
    },
    "kernelspec": {
      "name": "python3",
      "display_name": "Python 3"
    },
    "language_info": {
      "name": "python"
    }
  },
  "cells": [
    {
      "cell_type": "markdown",
      "metadata": {
        "id": "view-in-github",
        "colab_type": "text"
      },
      "source": [
        "<a href=\"https://colab.research.google.com/github/yp9435/Leetcode/blob/main/StriversAZDSABasicsSort.ipynb\" target=\"_parent\"><img src=\"https://colab.research.google.com/assets/colab-badge.svg\" alt=\"Open In Colab\"/></a>"
      ]
    },
    {
      "cell_type": "markdown",
      "source": [
        "# **Important Sorting Techniques**"
      ],
      "metadata": {
        "id": "A51fDlvpJ-bK"
      }
    },
    {
      "cell_type": "markdown",
      "source": [
        "# Selection Sort"
      ],
      "metadata": {
        "id": "J9B6KH7zKPvn"
      }
    },
    {
      "cell_type": "code",
      "execution_count": 2,
      "metadata": {
        "colab": {
          "base_uri": "https://localhost:8080/"
        },
        "id": "hVmwxQX_J5Ox",
        "outputId": "4cf44763-1dc4-4821-af69-8c11f2febbfd"
      },
      "outputs": [
        {
          "output_type": "stream",
          "name": "stdout",
          "text": [
            "[9, 13, 20, 24, 46, 52]\n"
          ]
        }
      ],
      "source": [
        "arr = [13,46,24,52,20,9]\n",
        "\n",
        "for i in range(0,len(arr)-1):\n",
        "  mini = i\n",
        "  for j in range(i+1,len(arr)):\n",
        "    if arr[j] < arr[mini]:\n",
        "      mini = j\n",
        "  #swap\n",
        "  temp = arr[mini];\n",
        "  arr[mini] = arr[i];\n",
        "  arr[i] = temp;\n",
        "\n",
        "print(arr)"
      ]
    },
    {
      "cell_type": "markdown",
      "source": [
        "# Bubble Sort"
      ],
      "metadata": {
        "id": "LetdWdW0LNst"
      }
    },
    {
      "cell_type": "code",
      "source": [
        "arr = [13,46,24,52,20,9]\n",
        "\n",
        "for i in range(len(arr)-1,0,-1):\n",
        "  for j in range(0,i):\n",
        "    if arr[j] > arr[j+1]:\n",
        "      temp = arr[j+1]\n",
        "      arr[j+1] = arr[j]\n",
        "      arr[j] = temp\n",
        "\n",
        "print(arr)"
      ],
      "metadata": {
        "colab": {
          "base_uri": "https://localhost:8080/"
        },
        "id": "01EKFrQ9LP6l",
        "outputId": "59fa4f8a-3e01-4e87-b90e-44d56643a85e"
      },
      "execution_count": 4,
      "outputs": [
        {
          "output_type": "stream",
          "name": "stdout",
          "text": [
            "[9, 13, 20, 24, 46, 52]\n"
          ]
        }
      ]
    },
    {
      "cell_type": "markdown",
      "source": [
        "# Insertion Sort"
      ],
      "metadata": {
        "id": "6n-rX2_bMSOK"
      }
    },
    {
      "cell_type": "code",
      "source": [
        "arr = [13,46,24,52,20,9]\n",
        "\n",
        "for i in range(1, len(arr)):\n",
        "  key = arr[i]\n",
        "  j = i - 1\n",
        "  while j >= 0 and arr[j] > key:\n",
        "    arr[j + 1] = arr[j]\n",
        "    j -= 1\n",
        "\n",
        "  arr[j + 1] = key\n",
        "\n",
        "print(arr)"
      ],
      "metadata": {
        "colab": {
          "base_uri": "https://localhost:8080/"
        },
        "id": "BJMJq1fZMV8x",
        "outputId": "1cc7355b-9905-4785-c266-b9a3e0072260"
      },
      "execution_count": 5,
      "outputs": [
        {
          "output_type": "stream",
          "name": "stdout",
          "text": [
            "[9, 13, 20, 24, 46, 52]\n"
          ]
        }
      ]
    },
    {
      "cell_type": "markdown",
      "source": [
        "u can learn this stuff later as well since u already have an idea of what it is"
      ],
      "metadata": {
        "id": "JzOyBfpENkXT"
      }
    },
    {
      "cell_type": "markdown",
      "source": [
        "# Merge Sort"
      ],
      "metadata": {
        "id": "QGO944fCNq48"
      }
    },
    {
      "cell_type": "code",
      "source": [
        "def merge_sort(arr):\n",
        "    if len(arr) > 1:\n",
        "        mid = len(arr) // 2  # Find the middle of the array\n",
        "        left_half = arr[:mid]  # Divide the array into two halves\n",
        "        right_half = arr[mid:]\n",
        "\n",
        "        merge_sort(left_half)  # Recursively sort the left half\n",
        "        merge_sort(right_half)  # Recursively sort the right half\n",
        "\n",
        "        # Merge the sorted halves\n",
        "        i = j = k = 0\n",
        "        while i < len(left_half) and j < len(right_half):\n",
        "            if left_half[i] < right_half[j]:\n",
        "                arr[k] = left_half[i]\n",
        "                i += 1\n",
        "            else:\n",
        "                arr[k] = right_half[j]\n",
        "                j += 1\n",
        "            k += 1\n",
        "\n",
        "        # Add any remaining elements\n",
        "        while i < len(left_half):\n",
        "            arr[k] = left_half[i]\n",
        "            i += 1\n",
        "            k += 1\n",
        "        while j < len(right_half):\n",
        "            arr[k] = right_half[j]\n",
        "            j += 1\n",
        "            k += 1\n",
        "\n",
        "# Example usage\n",
        "arr = [13, 46, 24, 52, 20, 9]\n",
        "merge_sort(arr)\n",
        "print(arr)\n"
      ],
      "metadata": {
        "colab": {
          "base_uri": "https://localhost:8080/"
        },
        "id": "7D4OhRc1NqcC",
        "outputId": "cfac4675-6e8b-43ce-a4f7-3fb6e6d38d38"
      },
      "execution_count": 6,
      "outputs": [
        {
          "output_type": "stream",
          "name": "stdout",
          "text": [
            "[9, 13, 20, 24, 46, 52]\n"
          ]
        }
      ]
    },
    {
      "cell_type": "markdown",
      "source": [
        "# Recursive Bubble Sort"
      ],
      "metadata": {
        "id": "koZZD8ZDNuNN"
      }
    },
    {
      "cell_type": "code",
      "source": [
        "def recursive_bubble_sort(arr, n=None):\n",
        "    if n is None:\n",
        "        n = len(arr)\n",
        "\n",
        "    if n == 1:  # Base case: Only one element left\n",
        "        return\n",
        "\n",
        "    # Bubble the largest element to the end\n",
        "    for i in range(n - 1):\n",
        "        if arr[i] > arr[i + 1]:\n",
        "            arr[i], arr[i + 1] = arr[i + 1], arr[i]\n",
        "\n",
        "    # Recursively sort the rest\n",
        "    recursive_bubble_sort(arr, n - 1)\n",
        "\n",
        "# Example usage\n",
        "arr = [13, 46, 24, 52, 20, 9]\n",
        "recursive_bubble_sort(arr)\n",
        "print(arr)\n"
      ],
      "metadata": {
        "colab": {
          "base_uri": "https://localhost:8080/"
        },
        "id": "N_F53V2VNsVo",
        "outputId": "c9b0cdc0-a039-4b52-a556-9148032c7670"
      },
      "execution_count": 7,
      "outputs": [
        {
          "output_type": "stream",
          "name": "stdout",
          "text": [
            "[9, 13, 20, 24, 46, 52]\n"
          ]
        }
      ]
    },
    {
      "cell_type": "markdown",
      "source": [
        "# Recursive Insertion Sort"
      ],
      "metadata": {
        "id": "YD34obTsN0rJ"
      }
    },
    {
      "cell_type": "code",
      "source": [
        "def recursive_insertion_sort(arr, n=None):\n",
        "    if n is None:\n",
        "        n = len(arr)\n",
        "\n",
        "    if n <= 1:  # Base case: One or no elements are already sorted\n",
        "        return\n",
        "\n",
        "    # Sort the first n-1 elements\n",
        "    recursive_insertion_sort(arr, n - 1)\n",
        "\n",
        "    # Insert the nth element into its correct position\n",
        "    key = arr[n - 1]\n",
        "    j = n - 2\n",
        "    while j >= 0 and arr[j] > key:\n",
        "        arr[j + 1] = arr[j]\n",
        "        j -= 1\n",
        "    arr[j + 1] = key\n",
        "\n",
        "# Example usage\n",
        "arr = [13, 46, 24, 52, 20, 9]\n",
        "recursive_insertion_sort(arr)\n",
        "print(arr)\n"
      ],
      "metadata": {
        "colab": {
          "base_uri": "https://localhost:8080/"
        },
        "id": "YeuJesJkN3oy",
        "outputId": "a39587ba-d375-495c-90b2-6ad288d58d1c"
      },
      "execution_count": 8,
      "outputs": [
        {
          "output_type": "stream",
          "name": "stdout",
          "text": [
            "[9, 13, 20, 24, 46, 52]\n"
          ]
        }
      ]
    },
    {
      "cell_type": "markdown",
      "source": [
        "# Quick Sort"
      ],
      "metadata": {
        "id": "ZSwBOvKWN7UO"
      }
    },
    {
      "cell_type": "code",
      "source": [
        "def quick_sort(arr):\n",
        "    if len(arr) <= 1:  # Base case: Single element or empty list\n",
        "        return arr\n",
        "\n",
        "    pivot = arr[len(arr) // 2]  # Choose the middle element as the pivot\n",
        "    left = [x for x in arr if x < pivot]  # Elements smaller than pivot\n",
        "    middle = [x for x in arr if x == pivot]  # Elements equal to pivot\n",
        "    right = [x for x in arr if x > pivot]  # Elements greater than pivot\n",
        "\n",
        "    return quick_sort(left) + middle + quick_sort(right)  # Recursively sort and combine\n",
        "\n",
        "# Example usage\n",
        "arr = [13, 46, 24, 52, 20, 9]\n",
        "sorted_arr = quick_sort(arr)\n",
        "print(sorted_arr)\n"
      ],
      "metadata": {
        "colab": {
          "base_uri": "https://localhost:8080/"
        },
        "id": "zjhQYtubN8u1",
        "outputId": "3298575f-68e8-4211-f521-2f59516551f6"
      },
      "execution_count": 9,
      "outputs": [
        {
          "output_type": "stream",
          "name": "stdout",
          "text": [
            "[9, 13, 20, 24, 46, 52]\n"
          ]
        }
      ]
    }
  ]
}
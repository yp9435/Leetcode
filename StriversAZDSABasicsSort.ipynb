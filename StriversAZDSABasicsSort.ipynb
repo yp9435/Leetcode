{
  "nbformat": 4,
  "nbformat_minor": 0,
  "metadata": {
    "colab": {
      "provenance": [],
      "authorship_tag": "ABX9TyOi0UvcurJWehRlnoEYRej1",
      "include_colab_link": true
    },
    "kernelspec": {
      "name": "python3",
      "display_name": "Python 3"
    },
    "language_info": {
      "name": "python"
    }
  },
  "cells": [
    {
      "cell_type": "markdown",
      "metadata": {
        "id": "view-in-github",
        "colab_type": "text"
      },
      "source": [
        "<a href=\"https://colab.research.google.com/github/yp9435/Leetcode/blob/main/StriversAZDSABasicsSort.ipynb\" target=\"_parent\"><img src=\"https://colab.research.google.com/assets/colab-badge.svg\" alt=\"Open In Colab\"/></a>"
      ]
    },
    {
      "cell_type": "markdown",
      "source": [
        "# **Important Sorting Techniques**"
      ],
      "metadata": {
        "id": "A51fDlvpJ-bK"
      }
    },
    {
      "cell_type": "markdown",
      "source": [
        "# Selection Sort"
      ],
      "metadata": {
        "id": "J9B6KH7zKPvn"
      }
    },
    {
      "cell_type": "code",
      "execution_count": 2,
      "metadata": {
        "colab": {
          "base_uri": "https://localhost:8080/"
        },
        "id": "hVmwxQX_J5Ox",
        "outputId": "4cf44763-1dc4-4821-af69-8c11f2febbfd"
      },
      "outputs": [
        {
          "output_type": "stream",
          "name": "stdout",
          "text": [
            "[9, 13, 20, 24, 46, 52]\n"
          ]
        }
      ],
      "source": [
        "arr = [13,46,24,52,20,9]\n",
        "\n",
        "for i in range(0,len(arr)-1):\n",
        "  mini = i\n",
        "  for j in range(i+1,len(arr)):\n",
        "    if arr[j] < arr[mini]:\n",
        "      mini = j\n",
        "  #swap\n",
        "  temp = arr[mini];\n",
        "  arr[mini] = arr[i];\n",
        "  arr[i] = temp;\n",
        "\n",
        "print(arr)"
      ]
    },
    {
      "cell_type": "markdown",
      "source": [
        "# Bubble Sort"
      ],
      "metadata": {
        "id": "LetdWdW0LNst"
      }
    },
    {
      "cell_type": "code",
      "source": [
        "arr = [13,46,24,52,20,9]\n",
        "\n",
        "for i in range(len(arr)-1,0,-1):\n",
        "  for j in range(0,i):\n",
        "    if arr[j] > arr[j+1]:\n",
        "      temp = arr[j+1]\n",
        "      arr[j+1] = arr[j]\n",
        "      arr[j] = temp\n",
        "\n",
        "print(arr)"
      ],
      "metadata": {
        "colab": {
          "base_uri": "https://localhost:8080/"
        },
        "id": "01EKFrQ9LP6l",
        "outputId": "59fa4f8a-3e01-4e87-b90e-44d56643a85e"
      },
      "execution_count": 4,
      "outputs": [
        {
          "output_type": "stream",
          "name": "stdout",
          "text": [
            "[9, 13, 20, 24, 46, 52]\n"
          ]
        }
      ]
    },
    {
      "cell_type": "markdown",
      "source": [
        "# Insertion Sort"
      ],
      "metadata": {
        "id": "6n-rX2_bMSOK"
      }
    },
    {
      "cell_type": "code",
      "source": [
        "arr = [13,46,24,52,20,9]\n",
        "\n",
        "for i in range(1, len(arr)):\n",
        "  key = arr[i]\n",
        "  j = i - 1\n",
        "  while j >= 0 and arr[j] > key:\n",
        "    arr[j + 1] = arr[j]\n",
        "    j -= 1\n",
        "\n",
        "  arr[j + 1] = key\n",
        "\n",
        "print(arr)"
      ],
      "metadata": {
        "colab": {
          "base_uri": "https://localhost:8080/"
        },
        "id": "BJMJq1fZMV8x",
        "outputId": "1cc7355b-9905-4785-c266-b9a3e0072260"
      },
      "execution_count": 5,
      "outputs": [
        {
          "output_type": "stream",
          "name": "stdout",
          "text": [
            "[9, 13, 20, 24, 46, 52]\n"
          ]
        }
      ]
    }
  ]
}
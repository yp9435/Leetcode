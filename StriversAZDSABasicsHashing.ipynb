{
  "nbformat": 4,
  "nbformat_minor": 0,
  "metadata": {
    "colab": {
      "provenance": [],
      "authorship_tag": "ABX9TyPlrTodryQVspH23V/YUVRo",
      "include_colab_link": true
    },
    "kernelspec": {
      "name": "python3",
      "display_name": "Python 3"
    },
    "language_info": {
      "name": "python"
    }
  },
  "cells": [
    {
      "cell_type": "markdown",
      "metadata": {
        "id": "view-in-github",
        "colab_type": "text"
      },
      "source": [
        "<a href=\"https://colab.research.google.com/github/yp9435/Leetcode/blob/main/StriversAZDSABasicsHashing.ipynb\" target=\"_parent\"><img src=\"https://colab.research.google.com/assets/colab-badge.svg\" alt=\"Open In Colab\"/></a>"
      ]
    },
    {
      "cell_type": "markdown",
      "source": [
        "# **Basics of Hashing**\n",
        "Hashing is a process of converting data (like a string or a number) into a fixed-size value called a hash, using a mathematical function called a hash function.\n",
        "\n",
        "**Key Points:**\n",
        "*   **Purpose:** Makes searching, storing, and retrieving data faster.\n",
        "*   **Example:** Turning \"hello\" into a unique number, like 12345, using a hash function.\n",
        "*   **Common Use:** Hash tables, where data is stored at specific indices determined by hash values.\n",
        "\n",
        "In simple terms, hashing is like giving every piece of data a unique \"address\" to find it quickly!"
      ],
      "metadata": {
        "id": "jeGQ1HNN7nXQ"
      }
    },
    {
      "cell_type": "markdown",
      "source": [
        "# Count frequency of each element in the array\n",
        "\n"
      ],
      "metadata": {
        "id": "pPp4kmCnDP5i"
      }
    },
    {
      "cell_type": "code",
      "source": [
        "arr = [1,1,2,8,5,5,3,3,3,3,5]\n",
        "dictarr = {}\n",
        "for i in arr:\n",
        "  if i in dictarr:\n",
        "    dictarr[i] += 1\n",
        "  else:\n",
        "    dictarr[i] = 1\n",
        "\n",
        "\n",
        "print(dictarr)\n",
        "n= int(input(\"Enter the element:\"))\n",
        "print(\"The frequency of the element\", i ,'in the array is :', dictarr[i])"
      ],
      "metadata": {
        "colab": {
          "base_uri": "https://localhost:8080/"
        },
        "id": "NYpoLB508r3c",
        "outputId": "4f50b328-5d73-4af1-a43e-1d6ca696d7b3"
      },
      "execution_count": 5,
      "outputs": [
        {
          "output_type": "stream",
          "name": "stdout",
          "text": [
            "{1: 2, 2: 1, 8: 1, 5: 3, 3: 4}\n",
            "Enter the element:5\n",
            "The frequency of the element 5 in the array is : 3\n"
          ]
        }
      ]
    },
    {
      "cell_type": "markdown",
      "source": [
        "# Find the highest/lowest frequency element\n"
      ],
      "metadata": {
        "id": "rTo-AZqaFPlE"
      }
    },
    {
      "cell_type": "code",
      "source": [
        "maxkey, minkey = 0,0\n",
        "maxval, minval = 0,len(arr)\n",
        "for key,value in dictarr.items():\n",
        "  if value>maxval:\n",
        "    maxval = value\n",
        "    maxkey = key\n",
        "  if value<minval:\n",
        "    minval = value\n",
        "    minkey = key\n",
        "\n",
        "print(\"Minimum -\",minkey,\":\",minval)\n",
        "print(\"Maximum -\",maxkey,\":\",maxval)"
      ],
      "metadata": {
        "colab": {
          "base_uri": "https://localhost:8080/"
        },
        "id": "wytoyXYPFTzT",
        "outputId": "3b00d64e-8998-4a3a-995a-90de903dbed6"
      },
      "execution_count": 9,
      "outputs": [
        {
          "output_type": "stream",
          "name": "stdout",
          "text": [
            "Minimum - 2 : 1\n",
            "Maximum - 3 : 4\n"
          ]
        }
      ]
    }
  ]
}
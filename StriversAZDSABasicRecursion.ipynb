{
  "nbformat": 4,
  "nbformat_minor": 0,
  "metadata": {
    "colab": {
      "provenance": [],
      "authorship_tag": "ABX9TyNcGDaLa1PLrN5WYc6A/FB5",
      "include_colab_link": true
    },
    "kernelspec": {
      "name": "python3",
      "display_name": "Python 3"
    },
    "language_info": {
      "name": "python"
    }
  },
  "cells": [
    {
      "cell_type": "markdown",
      "metadata": {
        "id": "view-in-github",
        "colab_type": "text"
      },
      "source": [
        "<a href=\"https://colab.research.google.com/github/yp9435/Leetcode/blob/main/StriversAZDSABasicRecursion.ipynb\" target=\"_parent\"><img src=\"https://colab.research.google.com/assets/colab-badge.svg\" alt=\"Open In Colab\"/></a>"
      ]
    },
    {
      "cell_type": "markdown",
      "source": [
        "# **Learn Basic Recursion**"
      ],
      "metadata": {
        "id": "fxbJnmPnzaqu"
      }
    },
    {
      "cell_type": "markdown",
      "source": [
        "# Print Name N times using Recursion\n",
        "\n",
        "\n"
      ],
      "metadata": {
        "id": "7M-ZJcXNzjZV"
      }
    },
    {
      "cell_type": "code",
      "execution_count": 1,
      "metadata": {
        "colab": {
          "base_uri": "https://localhost:8080/"
        },
        "id": "MiiBaQ9JkcDh",
        "outputId": "edfd8637-8ff7-4d12-835c-012c6209ac5d"
      },
      "outputs": [
        {
          "output_type": "stream",
          "name": "stdout",
          "text": [
            "Yeshi\n",
            "Yeshi\n",
            "Yeshi\n",
            "Yeshi\n"
          ]
        }
      ],
      "source": [
        "def name(i,n):\n",
        "  if i>n:\n",
        "    return\n",
        "  print(\"Yeshi\")\n",
        "  name(i+1,n)\n",
        "\n",
        "name(1,4)"
      ]
    },
    {
      "cell_type": "markdown",
      "source": [
        "# Print 1 to N using Recursion\n",
        "\n",
        "\n"
      ],
      "metadata": {
        "id": "wnxPVOC-0MwN"
      }
    },
    {
      "cell_type": "code",
      "source": [
        "def printnum(i,n):\n",
        "  if i<1:\n",
        "    return\n",
        "  print(i)\n",
        "  printnum(i-1,n)\n",
        "\n",
        "printnum(5,5)"
      ],
      "metadata": {
        "colab": {
          "base_uri": "https://localhost:8080/"
        },
        "id": "KY7HVxyH0ZdI",
        "outputId": "eb4c8566-cc76-4bad-d350-98537f40c2bf"
      },
      "execution_count": 4,
      "outputs": [
        {
          "output_type": "stream",
          "name": "stdout",
          "text": [
            "5\n",
            "4\n",
            "3\n",
            "2\n",
            "1\n"
          ]
        }
      ]
    },
    {
      "cell_type": "markdown",
      "source": [
        "# Sum of first N Natural Numbers\n",
        "\n",
        "\n"
      ],
      "metadata": {
        "id": "Q8_kqnF30nV0"
      }
    },
    {
      "cell_type": "code",
      "source": [
        "def sumofnum(i, sum):\n",
        "    if i < 1:\n",
        "        return sum\n",
        "    return sumofnum(i - 1, sum + i)\n",
        "\n",
        "result = sumofnum(5, 0)\n",
        "print(result)\n"
      ],
      "metadata": {
        "colab": {
          "base_uri": "https://localhost:8080/"
        },
        "id": "X8U6YiVM1LqW",
        "outputId": "9ceb14d6-cc06-4427-f2ec-b4001d2272ab"
      },
      "execution_count": 15,
      "outputs": [
        {
          "output_type": "stream",
          "name": "stdout",
          "text": [
            "15\n"
          ]
        }
      ]
    },
    {
      "cell_type": "markdown",
      "source": [
        "# Factorial of a Number Recursive\n",
        "\n",
        "\n"
      ],
      "metadata": {
        "id": "VIFL6kE73QPT"
      }
    },
    {
      "cell_type": "code",
      "source": [
        "def factorial(n,fact):\n",
        "  if n<1:\n",
        "    return fact\n",
        "  return factorial(n-1,fact*n)\n",
        "\n",
        "n = int(input(\"ENter N:\"))\n",
        "\n",
        "result = factorial(n, 1)\n",
        "print(result)\n"
      ],
      "metadata": {
        "colab": {
          "base_uri": "https://localhost:8080/"
        },
        "id": "Qxk_DujN3TAC",
        "outputId": "508eb602-82aa-48f3-9c9c-3b88911e53c1"
      },
      "execution_count": 18,
      "outputs": [
        {
          "output_type": "stream",
          "name": "stdout",
          "text": [
            "ENter N:5\n",
            "120\n"
          ]
        }
      ]
    },
    {
      "cell_type": "markdown",
      "source": [
        "# Reverse a given Array\n"
      ],
      "metadata": {
        "id": "EFSGLNRz4XxU"
      }
    },
    {
      "cell_type": "code",
      "source": [
        "def revArr(n,Arr,ans):\n",
        "  if n<1:\n",
        "    return ans\n",
        "  ans.append(Arr[n - 1])\n",
        "  return revArr(n-1,Arr,ans)\n",
        "\n",
        "def reverseArray(arr, start, end):\n",
        "  if start < end:\n",
        "    arr[start], arr[end] = arr[end], arr[start]\n",
        "    reverseArray(arr, start + 1, end - 1)\n",
        "\n",
        "result = revArr(5,[1,2,3,4,5],[])\n",
        "print(result)\n",
        "\n"
      ],
      "metadata": {
        "colab": {
          "base_uri": "https://localhost:8080/"
        },
        "id": "Lym5ZhvZ4zRU",
        "outputId": "cd675b75-1a5c-47cb-d3fb-b89811ebfbad"
      },
      "execution_count": 33,
      "outputs": [
        {
          "output_type": "stream",
          "name": "stdout",
          "text": [
            "[5, 4, 3, 2, 1]\n"
          ]
        }
      ]
    },
    {
      "cell_type": "markdown",
      "source": [
        "# Check if the given String is Palindrome or not\n",
        "\n",
        "\n"
      ],
      "metadata": {
        "id": "E3ZPTtB77G2N"
      }
    },
    {
      "cell_type": "code",
      "source": [
        "def reverseString(s, start, end, rev_s):\n",
        "  if end < start:\n",
        "    return rev_s\n",
        "  rev_s += s[end]\n",
        "  return reverseString(s, start, end - 1, rev_s)\n",
        "\n",
        "def palin(s):\n",
        "  rev_s = reverseString(s, 0, 4, \"\")\n",
        "  return s == rev_s\n",
        "\n",
        "print(palin(\"madam\"))"
      ],
      "metadata": {
        "colab": {
          "base_uri": "https://localhost:8080/"
        },
        "id": "G_cYzSiX7IKQ",
        "outputId": "86ca6440-5adc-4cb8-e066-7c62cae30a71"
      },
      "execution_count": 31,
      "outputs": [
        {
          "output_type": "stream",
          "name": "stdout",
          "text": [
            "True\n"
          ]
        }
      ]
    },
    {
      "cell_type": "markdown",
      "source": [
        "# Print Fibonacci Series up to Nth term\n"
      ],
      "metadata": {
        "id": "XQXYSmr2Bt9O"
      }
    },
    {
      "cell_type": "code",
      "source": [
        "def fib(N):\n",
        "  if N<=1:\n",
        "    return N\n",
        "  last = fib(N-1)\n",
        "  slast = fib(N-2)\n",
        "  return last + slast\n",
        "\n",
        "result = fib(5)\n",
        "print(result)"
      ],
      "metadata": {
        "colab": {
          "base_uri": "https://localhost:8080/"
        },
        "id": "P6Q1nEvKBzZo",
        "outputId": "c403bafc-7b82-44c0-8496-cc905845ae04"
      },
      "execution_count": 32,
      "outputs": [
        {
          "output_type": "stream",
          "name": "stdout",
          "text": [
            "5\n"
          ]
        }
      ]
    }
  ]
}
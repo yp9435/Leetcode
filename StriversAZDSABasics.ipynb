{
  "nbformat": 4,
  "nbformat_minor": 0,
  "metadata": {
    "colab": {
      "provenance": [],
      "authorship_tag": "ABX9TyP/DARopZ6L/F+98ik+nrwK",
      "include_colab_link": true
    },
    "kernelspec": {
      "name": "python3",
      "display_name": "Python 3"
    },
    "language_info": {
      "name": "python"
    }
  },
  "cells": [
    {
      "cell_type": "markdown",
      "metadata": {
        "id": "view-in-github",
        "colab_type": "text"
      },
      "source": [
        "<a href=\"https://colab.research.google.com/github/yp9435/Leetcode/blob/main/StriversAZDSABasics.ipynb\" target=\"_parent\"><img src=\"https://colab.research.google.com/assets/colab-badge.svg\" alt=\"Open In Colab\"/></a>"
      ]
    },
    {
      "cell_type": "markdown",
      "source": [
        "# **Lecture 4 - Know Basic Maths**\n"
      ],
      "metadata": {
        "id": "JyFwP5F3MaN2"
      }
    },
    {
      "cell_type": "markdown",
      "source": [
        "# Count digits in a number\n",
        "\n",
        "Problem Statement: Given an integer N, return the number of digits in N.\n",
        "\n"
      ],
      "metadata": {
        "id": "RM7L2Nz0M5H2"
      }
    },
    {
      "cell_type": "code",
      "execution_count": 22,
      "metadata": {
        "colab": {
          "base_uri": "https://localhost:8080/"
        },
        "id": "6ipH_d1kMS6i",
        "outputId": "2d25317a-db5a-40f5-ad65-7e986c66db2c"
      },
      "outputs": [
        {
          "output_type": "stream",
          "name": "stdout",
          "text": [
            "Enter N:1234\n",
            "4\n",
            "4\n",
            "4\n"
          ]
        }
      ],
      "source": [
        "import math\n",
        "\n",
        "#Brute\n",
        "n = int(input(\"Enter N:\"))\n",
        "num = n\n",
        "count = 0\n",
        "while num:\n",
        "  num = num//10\n",
        "  count+=1\n",
        "print(count)\n",
        "\n",
        "#optimal\n",
        "nums = str(n)\n",
        "print(len(nums))\n",
        "\n",
        "#this one calculates the count of numbers\n",
        "cnt = int(math.log10(n) + 1)\n",
        "print(cnt)\n",
        ""
      ]
    },
    {
      "cell_type": "markdown",
      "source": [
        "# Reverse Digits of A Number\n"
      ],
      "metadata": {
        "id": "jKIsXKcNQmsM"
      }
    },
    {
      "cell_type": "code",
      "source": [
        "#brute\n",
        "n = int(input(\"Enter N:\"))\n",
        "num = n\n",
        "new = 0\n",
        "while num:\n",
        "  rem = num%10\n",
        "  new = new * 10 + rem\n",
        "  num = num//10\n",
        "print(new)\n"
      ],
      "metadata": {
        "id": "WdglhjkyNsB1",
        "colab": {
          "base_uri": "https://localhost:8080/"
        },
        "outputId": "39eae1fe-00d1-4d96-e5d7-08e43f845596"
      },
      "execution_count": 37,
      "outputs": [
        {
          "output_type": "stream",
          "name": "stdout",
          "text": [
            "Enter N:1234\n",
            "4321\n"
          ]
        }
      ]
    },
    {
      "cell_type": "markdown",
      "source": [
        "# Check if a number is Palindrome or Not\n",
        "\n"
      ],
      "metadata": {
        "id": "m8MlYeREUuDE"
      }
    },
    {
      "cell_type": "code",
      "source": [
        "n = int(input(\"Enter N:\"))\n",
        "num = n\n",
        "new = 0\n",
        "while num:\n",
        "  rem = num%10\n",
        "  new = new * 10 + rem\n",
        "  num = num//10\n",
        "print(new)\n",
        "\n",
        "if new == n:\n",
        "  print(\"Yes its a Palindrome\")\n",
        "else:\n",
        "  print(\"No its not a Palindrome\")\n"
      ],
      "metadata": {
        "colab": {
          "base_uri": "https://localhost:8080/"
        },
        "id": "tAOb--HRS516",
        "outputId": "89a27f04-9f5e-45a8-8c25-2b54c6a82d65"
      },
      "execution_count": 39,
      "outputs": [
        {
          "output_type": "stream",
          "name": "stdout",
          "text": [
            "Enter N:101\n",
            "101\n",
            "Yes its a Palindrome\n"
          ]
        }
      ]
    },
    {
      "cell_type": "markdown",
      "source": [
        "# Find GCD of two numbers\n"
      ],
      "metadata": {
        "id": "ibwu0tEhUpdr"
      }
    },
    {
      "cell_type": "code",
      "source": [
        "#brute? not right\n",
        "n1 = int(input(\"ENter 1:\"))\n",
        "n2 = int(input(\"ENter 2:\"))\n",
        "n1c,n2c =n1,n2\n",
        "count = 1\n",
        "while n1c and n2c:\n",
        "  n1c = n1c//count\n",
        "  n2c = n2c//count\n",
        "  count += 1\n",
        "print(count)\n",
        "\n",
        "#optimal\n",
        "while n2 != 0:\n",
        "    n1, n2 = n2, n1 % n2  # Update n1 to n2, and n2 to n1 % n2\n",
        "\n",
        "print(\"GCD is:\", n1)"
      ],
      "metadata": {
        "colab": {
          "base_uri": "https://localhost:8080/"
        },
        "id": "Tqm05QaDUcd4",
        "outputId": "6ed477ca-6494-4802-ac45-87897cd4e611"
      },
      "execution_count": 43,
      "outputs": [
        {
          "output_type": "stream",
          "name": "stdout",
          "text": [
            "ENter 1:10\n",
            "ENter 2:20\n",
            "5\n",
            "GCD is: 10\n"
          ]
        }
      ]
    },
    {
      "cell_type": "markdown",
      "source": [
        "# Check if a number is Armstrong Number or not\n",
        "\n",
        "\n"
      ],
      "metadata": {
        "id": "vxZQVzlwZYP_"
      }
    },
    {
      "cell_type": "code",
      "source": [
        "n = int(input(\"Enter N:\"))\n",
        "num = n\n",
        "cnt = int(math.log10(n) + 1)\n",
        "sum = 0\n",
        "while num:\n",
        "  rem = num%10\n",
        "  sum = sum + (rem**cnt)\n",
        "  num = num//10\n",
        "print(sum)\n",
        "if sum == n:\n",
        "  print(\"Its Armstrong Number\")\n",
        "else:\n",
        "  print(\"Its not an Armstrong Number\")"
      ],
      "metadata": {
        "colab": {
          "base_uri": "https://localhost:8080/"
        },
        "id": "22a8PxaKZc60",
        "outputId": "b51e2df8-b64e-4b52-f80d-a00594549b2e"
      },
      "execution_count": 49,
      "outputs": [
        {
          "output_type": "stream",
          "name": "stdout",
          "text": [
            "Enter N:153\n",
            "153\n",
            "Its Armstrong Number\n"
          ]
        }
      ]
    },
    {
      "cell_type": "markdown",
      "source": [
        "# Print all Divisors of a given Number\n"
      ],
      "metadata": {
        "id": "YMYxYtoHanqQ"
      }
    },
    {
      "cell_type": "code",
      "source": [
        "n = int(input(\"Enter N:\"))\n",
        "num = n\n",
        "print(\"The Divisors of \", num,\":\",end='')\n",
        "for i in range(1,num+1):\n",
        "  if num%i == 0:\n",
        "    print(i, end=' ')"
      ],
      "metadata": {
        "colab": {
          "base_uri": "https://localhost:8080/"
        },
        "id": "g4yQRJpParjK",
        "outputId": "bed720c4-8347-4cf3-92cf-61318ae30fcf"
      },
      "execution_count": 62,
      "outputs": [
        {
          "output_type": "stream",
          "name": "stdout",
          "text": [
            "Enter N:8\n",
            "The Divisors of  8 :1 2 4 8 "
          ]
        }
      ]
    },
    {
      "cell_type": "markdown",
      "source": [],
      "metadata": {
        "id": "e_Gp_Fi_cr5B"
      }
    },
    {
      "cell_type": "code",
      "source": [
        "n = int(input(\"Enter N:\"))\n",
        "cnt = 0\n",
        "for i in range(1, n+1):\n",
        "  if n % i == 0:\n",
        "      cnt = cnt + 1\n",
        "if cnt == 2:\n",
        "  print(\"Prime\")\n",
        "else:\n",
        "  print(\"Not Prime\")"
      ],
      "metadata": {
        "colab": {
          "base_uri": "https://localhost:8080/"
        },
        "id": "4RNNqrcfbG8g",
        "outputId": "1c0f956c-2b75-4f92-8c51-638c68ef9de6"
      },
      "execution_count": 66,
      "outputs": [
        {
          "output_type": "stream",
          "name": "stdout",
          "text": [
            "Enter N:5\n",
            "Prime\n"
          ]
        }
      ]
    },
    {
      "cell_type": "code",
      "source": [],
      "metadata": {
        "id": "n98Zmi3gdRX_"
      },
      "execution_count": null,
      "outputs": []
    }
  ]
}